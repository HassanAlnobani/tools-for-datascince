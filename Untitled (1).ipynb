{
 "cells": [
  {
   "cell_type": "markdown",
   "id": "d82c34fa",
   "metadata": {},
   "source": [
    "# Data Science Notebook"
   ]
  },
  {
   "cell_type": "markdown",
   "id": "30d09688",
   "metadata": {},
   "source": [
    "## Introduction\n",
    "This notebook explores various aspects of data science, including languages, libraries, tools, and arithmetic expressions.\n"
   ]
  },
  {
   "cell_type": "markdown",
   "id": "4f187c8a",
   "metadata": {},
   "source": [
    "## Data Science Languages\n",
    "- Python\n",
    "- R\n",
    "- SQL\n"
   ]
  },
  {
   "cell_type": "markdown",
   "id": "00410a8e",
   "metadata": {},
   "source": [
    "## Data Science Libraries\n",
    "- NumPy\n",
    "- Pandas\n",
    "- Matplotlib\n"
   ]
  },
  {
   "cell_type": "markdown",
   "id": "fd483389",
   "metadata": {},
   "source": [
    "## Data Science Tools\n",
    "\n",
    "| Tool        | Description           |\n",
    "|-------------|-----------------------|\n",
    "| Jupyter     | Interactive Notebooks |\n",
    "| TensorFlow  | Deep Learning         |\n",
    "| Scikit-learn| Machine Learning      |\n"
   ]
  },
  {
   "cell_type": "markdown",
   "id": "54e8aa2c",
   "metadata": {},
   "source": [
    "## Arithmetic Expression Examples\n",
    "Let's explore some basic arithmetic operations.\n"
   ]
  },
  {
   "cell_type": "code",
   "execution_count": 2,
   "id": "64f0a4dc",
   "metadata": {},
   "outputs": [
    {
     "name": "stdout",
     "output_type": "stream",
     "text": [
      "Multiplication result: 15\n",
      "Addition result: 8\n"
     ]
    }
   ],
   "source": [
    "# Multiply and add numbers\n",
    "a = 5\n",
    "b = 3\n",
    "result_multiply = a * b\n",
    "result_add = a + b\n",
    "print(\"Multiplication result:\", result_multiply)\n",
    "print(\"Addition result:\", result_add)\n"
   ]
  },
  {
   "cell_type": "code",
   "execution_count": 3,
   "id": "2414bf20",
   "metadata": {},
   "outputs": [
    {
     "name": "stdout",
     "output_type": "stream",
     "text": [
      "Hours: 2.0\n"
     ]
    }
   ],
   "source": [
    "# Convert minutes to hours\n",
    "minutes = 120\n",
    "hours = minutes / 60\n",
    "print(\"Hours:\", hours)\n"
   ]
  },
  {
   "cell_type": "markdown",
   "id": "d0a8a26a",
   "metadata": {},
   "source": [
    "## Objectives\n",
    "- Explore data science languages, libraries, and tools\n",
    "- Understand basic arithmetic operations\n",
    "- Learn to convert units\n"
   ]
  },
  {
   "cell_type": "markdown",
   "id": "07954b74",
   "metadata": {},
   "source": [
    "## Author\n",
    "- [Hassan Alnobani]\n"
   ]
  },
  {
   "cell_type": "code",
   "execution_count": null,
   "id": "e7209895",
   "metadata": {},
   "outputs": [],
   "source": []
  }
 ],
 "metadata": {
  "kernelspec": {
   "display_name": "Python 3 (ipykernel)",
   "language": "python",
   "name": "python3"
  },
  "language_info": {
   "codemirror_mode": {
    "name": "ipython",
    "version": 3
   },
   "file_extension": ".py",
   "mimetype": "text/x-python",
   "name": "python",
   "nbconvert_exporter": "python",
   "pygments_lexer": "ipython3",
   "version": "3.11.5"
  }
 },
 "nbformat": 4,
 "nbformat_minor": 5
}
